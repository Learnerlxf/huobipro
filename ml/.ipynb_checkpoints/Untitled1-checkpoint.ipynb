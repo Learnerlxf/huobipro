{
 "cells": [
  {
   "cell_type": "code",
   "execution_count": 36,
   "metadata": {
    "collapsed": false
   },
   "outputs": [
    {
     "name": "stdout",
     "output_type": "stream",
     "text": [
      "   data1  data2 key1 key2\n",
      "0      0      5    a  one\n",
      "1      1      6    a  two\n",
      "2      2      7    b  one\n",
      "3      3      8    b  two\n",
      "4      4      9    a  one\n"
     ]
    }
   ],
   "source": [
    "import numpy as np  \n",
    "import pandas as pd\n",
    "data = pd.DataFrame({'key1':list('aabba'),  \n",
    "                  'key2': ['one','two','one','two','one'],  \n",
    "                  'data1': range(5),  \n",
    "                  'data2': range(5,10)})\n",
    "print data"
   ]
  },
  {
   "cell_type": "code",
   "execution_count": 37,
   "metadata": {
    "collapsed": false
   },
   "outputs": [
    {
     "name": "stdout",
     "output_type": "stream",
     "text": [
      "      data1  data2 key1 key2\n",
      "0  1.666667      9    a  one\n",
      "1  1.666667      9    a  two\n",
      "2  2.500000      8    b  one\n",
      "3  2.500000      8    b  two\n",
      "4  1.666667      9    a  one\n"
     ]
    }
   ],
   "source": [
    "def f(group):  \n",
    "    group['data1'] = group['data1'].mean()\n",
    "    group['data2'] = group['data2'].max()\n",
    "    return group\n",
    "print data.groupby(['key1']).apply(f) \n",
    "#data.groupby(['key1','key2'])['data1'].apply(f)"
   ]
  },
  {
   "cell_type": "code",
   "execution_count": 40,
   "metadata": {
    "collapsed": false
   },
   "outputs": [
    {
     "name": "stdout",
     "output_type": "stream",
     "text": [
      "0    5\n",
      "1    6\n",
      "4    9\n",
      "Name: data2, dtype: int64\n",
      "2    7\n",
      "3    8\n",
      "Name: data2, dtype: int64\n",
      "         data1 data2\n",
      "          mean    f1\n",
      "key1                \n",
      "a     1.666667    20\n",
      "b     2.500000    15\n"
     ]
    }
   ],
   "source": [
    "def f1(group):\n",
    "    print group\n",
    "    return group.sum()\n",
    "print data.groupby(['key1']).agg({'data1':['mean'], 'data2':[f1], 'key2':[f1]}) "
   ]
  },
  {
   "cell_type": "code",
   "execution_count": null,
   "metadata": {
    "collapsed": true
   },
   "outputs": [],
   "source": []
  }
 ],
 "metadata": {
  "kernelspec": {
   "display_name": "Python 2",
   "language": "python",
   "name": "python2"
  },
  "language_info": {
   "codemirror_mode": {
    "name": "ipython",
    "version": 2
   },
   "file_extension": ".py",
   "mimetype": "text/x-python",
   "name": "python",
   "nbconvert_exporter": "python",
   "pygments_lexer": "ipython2",
   "version": "2.7.13"
  }
 },
 "nbformat": 4,
 "nbformat_minor": 2
}
