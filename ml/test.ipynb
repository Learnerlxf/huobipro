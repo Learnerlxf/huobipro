{
 "cells": [
  {
   "cell_type": "code",
   "execution_count": 36,
   "metadata": {
    "collapsed": false
   },
   "outputs": [
    {
     "name": "stdout",
     "output_type": "stream",
     "text": [
      "   data1  data2 key1 key2\n",
      "0      0      5    a  one\n",
      "1      1      6    a  two\n",
      "2      2      7    b  one\n",
      "3      3      8    b  two\n",
      "4      4      9    a  one\n"
     ]
    }
   ],
   "source": [
    "import numpy as np  \n",
    "import pandas as pd\n",
    "data = pd.DataFrame({'key1':list('aabba'),  \n",
    "                  'key2': ['one','two','one','two','one'],  \n",
    "                  'data1': range(5),  \n",
    "                  'data2': range(5,10)})\n",
    "print data"
   ]
  },
  {
   "cell_type": "code",
   "execution_count": 37,
   "metadata": {
    "collapsed": false
   },
   "outputs": [
    {
     "name": "stdout",
     "output_type": "stream",
     "text": [
      "      data1  data2 key1 key2\n",
      "0  1.666667      9    a  one\n",
      "1  1.666667      9    a  two\n",
      "2  2.500000      8    b  one\n",
      "3  2.500000      8    b  two\n",
      "4  1.666667      9    a  one\n"
     ]
    }
   ],
   "source": [
    "def f(group):  \n",
    "    group['data1'] = group['data1'].mean()\n",
    "    group['data2'] = group['data2'].max()\n",
    "    return group\n",
    "print data.groupby(['key1']).apply(f) \n",
    "#data.groupby(['key1','key2'])['data1'].apply(f)"
   ]
  },
  {
   "cell_type": "code",
   "execution_count": 49,
   "metadata": {
    "collapsed": false
   },
   "outputs": [
    {
     "name": "stdout",
     "output_type": "stream",
     "text": [
      "0    one\n",
      "1    two\n",
      "4    one\n",
      "Name: key2, dtype: object\n",
      "2    one\n",
      "3    two\n",
      "Name: key2, dtype: object\n",
      "0    5\n",
      "1    6\n",
      "4    9\n",
      "Name: data2, dtype: int64\n",
      "2    7\n",
      "3    8\n",
      "Name: data2, dtype: int64\n",
      "     key2     data1 data2\n",
      "       f1      mean    f1\n",
      "key1                     \n",
      "a     two  1.666667     9\n",
      "b     two  2.500000     8\n",
      "MultiIndex(levels=[[u'key2', u'data1', u'data2'], [u'f1', u'mean']],\n",
      "           labels=[[0, 1, 2], [0, 1, 0]])\n"
     ]
    }
   ],
   "source": [
    "def f1(group):\n",
    "    print group\n",
    "    return group.max()\n",
    "newData = data.groupby(['key1']).agg({'data1':['mean'], 'data2':[f1], 'key2':[f1]}) \n",
    "print newData\n",
    "print newData.columns"
   ]
  },
  {
   "cell_type": "code",
   "execution_count": 51,
   "metadata": {
    "collapsed": false
   },
   "outputs": [
    {
     "ename": "TypeError",
     "evalue": "reset_index() got an unexpected keyword argument 'axis'",
     "output_type": "error",
     "traceback": [
      "\u001b[0;31m---------------------------------------------------------------------------\u001b[0m",
      "\u001b[0;31mTypeError\u001b[0m                                 Traceback (most recent call last)",
      "\u001b[0;32m<ipython-input-51-adad58772c21>\u001b[0m in \u001b[0;36m<module>\u001b[0;34m()\u001b[0m\n\u001b[0;32m----> 1\u001b[0;31m \u001b[0mnewData\u001b[0m\u001b[1;33m.\u001b[0m\u001b[0mreset_index\u001b[0m\u001b[1;33m(\u001b[0m\u001b[0maxis\u001b[0m\u001b[1;33m=\u001b[0m\u001b[1;36m1\u001b[0m\u001b[1;33m,\u001b[0m \u001b[0mdrop\u001b[0m\u001b[1;33m=\u001b[0m\u001b[0mFalse\u001b[0m\u001b[1;33m)\u001b[0m\u001b[1;33m\u001b[0m\u001b[0m\n\u001b[0m",
      "\u001b[0;31mTypeError\u001b[0m: reset_index() got an unexpected keyword argument 'axis'"
     ]
    }
   ],
   "source": [
    "newData.reset_index(axis=1, drop=False)"
   ]
  },
  {
   "cell_type": "code",
   "execution_count": 46,
   "metadata": {
    "collapsed": false
   },
   "outputs": [
    {
     "name": "stdout",
     "output_type": "stream",
     "text": [
      "Index([u'key2', u'data2', u'data2'], dtype='object')\n"
     ]
    }
   ],
   "source": []
  },
  {
   "cell_type": "code",
   "execution_count": null,
   "metadata": {
    "collapsed": true
   },
   "outputs": [],
   "source": []
  }
 ],
 "metadata": {
  "kernelspec": {
   "display_name": "Python 2",
   "language": "python",
   "name": "python2"
  },
  "language_info": {
   "codemirror_mode": {
    "name": "ipython",
    "version": 2
   },
   "file_extension": ".py",
   "mimetype": "text/x-python",
   "name": "python",
   "nbconvert_exporter": "python",
   "pygments_lexer": "ipython2",
   "version": "2.7.13"
  }
 },
 "nbformat": 4,
 "nbformat_minor": 2
}
